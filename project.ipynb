{
 "cells": [
  {
   "cell_type": "code",
   "execution_count": 1,
   "id": "dcfca2f4",
   "metadata": {
    "_cell_guid": "b1076dfc-b9ad-4769-8c92-a6c4dae69d19",
    "_uuid": "8f2839f25d086af736a60e9eeb907d3b93b6e0e5",
    "execution": {
     "iopub.execute_input": "2022-02-14T08:04:56.766471Z",
     "iopub.status.busy": "2022-02-14T08:04:56.765775Z",
     "iopub.status.idle": "2022-02-14T08:04:56.776746Z",
     "shell.execute_reply": "2022-02-14T08:04:56.777323Z",
     "shell.execute_reply.started": "2022-02-14T07:58:49.756262Z"
    },
    "papermill": {
     "duration": 0.05402,
     "end_time": "2022-02-14T08:04:56.777608",
     "exception": false,
     "start_time": "2022-02-14T08:04:56.723588",
     "status": "completed"
    },
    "tags": []
   },
   "outputs": [
    {
     "name": "stdout",
     "output_type": "stream",
     "text": [
      "/kaggle/input/product-position/upper.csv\n",
      "/kaggle/input/product-position/upper_test.csv\n"
     ]
    }
   ],
   "source": [
    "# This Python 3 environment comes with many helpful analytics libraries installed\n",
    "# It is defined by the kaggle/python Docker image: https://github.com/kaggle/docker-python\n",
    "# For example, here's several helpful packages to load\n",
    "\n",
    "import numpy as np # linear algebra\n",
    "import pandas as pd # data processing, CSV file I/O (e.g. pd.read_csv)\n",
    "\n",
    "# Input data files are available in the read-only \"../input/\" directory\n",
    "# For example, running this (by clicking run or pressing Shift+Enter) will list all files under the input directory\n",
    "\n",
    "import os\n",
    "for dirname, _, filenames in os.walk('/kaggle/input'):\n",
    "    for filename in filenames:\n",
    "        print(os.path.join(dirname, filename))\n",
    "\n",
    "# You can write up to 20GB to the current directory (/kaggle/working/) that gets preserved as output when you create a version using \"Save & Run All\" \n",
    "# You can also write temporary files to /kaggle/temp/, but they won't be saved outside of the current session"
   ]
  },
  {
   "cell_type": "code",
   "execution_count": 2,
   "id": "fc986177",
   "metadata": {
    "execution": {
     "iopub.execute_input": "2022-02-14T08:04:56.823101Z",
     "iopub.status.busy": "2022-02-14T08:04:56.822557Z",
     "iopub.status.idle": "2022-02-14T08:04:57.633963Z",
     "shell.execute_reply": "2022-02-14T08:04:57.634483Z",
     "shell.execute_reply.started": "2022-02-14T07:58:49.799115Z"
    },
    "papermill": {
     "duration": 0.835811,
     "end_time": "2022-02-14T08:04:57.634628",
     "exception": false,
     "start_time": "2022-02-14T08:04:56.798817",
     "status": "completed"
    },
    "tags": []
   },
   "outputs": [
    {
     "data": {
      "text/html": [
       "<div>\n",
       "<style scoped>\n",
       "    .dataframe tbody tr th:only-of-type {\n",
       "        vertical-align: middle;\n",
       "    }\n",
       "\n",
       "    .dataframe tbody tr th {\n",
       "        vertical-align: top;\n",
       "    }\n",
       "\n",
       "    .dataframe thead th {\n",
       "        text-align: right;\n",
       "    }\n",
       "</style>\n",
       "<table border=\"1\" class=\"dataframe\">\n",
       "  <thead>\n",
       "    <tr style=\"text-align: right;\">\n",
       "      <th></th>\n",
       "      <th>0</th>\n",
       "      <th>1</th>\n",
       "      <th>2</th>\n",
       "      <th>3</th>\n",
       "      <th>4</th>\n",
       "      <th>5</th>\n",
       "      <th>6</th>\n",
       "      <th>7</th>\n",
       "      <th>8</th>\n",
       "      <th>9</th>\n",
       "      <th>...</th>\n",
       "      <th>1165</th>\n",
       "      <th>1166</th>\n",
       "      <th>1167</th>\n",
       "      <th>1168</th>\n",
       "      <th>1169</th>\n",
       "      <th>1170</th>\n",
       "      <th>1171</th>\n",
       "      <th>1172</th>\n",
       "      <th>1173</th>\n",
       "      <th>1174</th>\n",
       "    </tr>\n",
       "  </thead>\n",
       "  <tbody>\n",
       "    <tr>\n",
       "      <th>0</th>\n",
       "      <td>0</td>\n",
       "      <td>-0.214777</td>\n",
       "      <td>-0.074414</td>\n",
       "      <td>0.079668</td>\n",
       "      <td>-0.041953</td>\n",
       "      <td>-0.715294</td>\n",
       "      <td>0.043155</td>\n",
       "      <td>0.754480</td>\n",
       "      <td>0.628223</td>\n",
       "      <td>-0.074455</td>\n",
       "      <td>...</td>\n",
       "      <td>0.088765</td>\n",
       "      <td>0.285463</td>\n",
       "      <td>-0.060605</td>\n",
       "      <td>-0.542769</td>\n",
       "      <td>-0.006594</td>\n",
       "      <td>0.665262</td>\n",
       "      <td>-0.015711</td>\n",
       "      <td>-0.667007</td>\n",
       "      <td>-0.013797</td>\n",
       "      <td>0.368727</td>\n",
       "    </tr>\n",
       "    <tr>\n",
       "      <th>1</th>\n",
       "      <td>0</td>\n",
       "      <td>-0.253997</td>\n",
       "      <td>0.000337</td>\n",
       "      <td>0.060563</td>\n",
       "      <td>-0.101104</td>\n",
       "      <td>-0.701834</td>\n",
       "      <td>0.070198</td>\n",
       "      <td>0.748214</td>\n",
       "      <td>0.656058</td>\n",
       "      <td>0.016878</td>\n",
       "      <td>...</td>\n",
       "      <td>0.182359</td>\n",
       "      <td>-0.046342</td>\n",
       "      <td>-0.233167</td>\n",
       "      <td>-0.234710</td>\n",
       "      <td>0.183400</td>\n",
       "      <td>0.591095</td>\n",
       "      <td>-0.059619</td>\n",
       "      <td>-0.819383</td>\n",
       "      <td>-0.283455</td>\n",
       "      <td>0.414261</td>\n",
       "    </tr>\n",
       "    <tr>\n",
       "      <th>2</th>\n",
       "      <td>0</td>\n",
       "      <td>-0.212620</td>\n",
       "      <td>-0.136841</td>\n",
       "      <td>0.113312</td>\n",
       "      <td>0.014819</td>\n",
       "      <td>-0.714882</td>\n",
       "      <td>-0.012742</td>\n",
       "      <td>0.720049</td>\n",
       "      <td>0.666651</td>\n",
       "      <td>-0.012994</td>\n",
       "      <td>...</td>\n",
       "      <td>0.020312</td>\n",
       "      <td>0.042942</td>\n",
       "      <td>-0.171825</td>\n",
       "      <td>-0.373853</td>\n",
       "      <td>-0.104966</td>\n",
       "      <td>0.448661</td>\n",
       "      <td>0.347881</td>\n",
       "      <td>-0.296482</td>\n",
       "      <td>-0.369788</td>\n",
       "      <td>-0.097517</td>\n",
       "    </tr>\n",
       "    <tr>\n",
       "      <th>3</th>\n",
       "      <td>0</td>\n",
       "      <td>-0.156624</td>\n",
       "      <td>-0.255746</td>\n",
       "      <td>0.086175</td>\n",
       "      <td>0.086967</td>\n",
       "      <td>-0.657194</td>\n",
       "      <td>0.011942</td>\n",
       "      <td>0.792931</td>\n",
       "      <td>0.718432</td>\n",
       "      <td>-0.084970</td>\n",
       "      <td>...</td>\n",
       "      <td>-0.142067</td>\n",
       "      <td>0.143729</td>\n",
       "      <td>-0.000996</td>\n",
       "      <td>-0.482060</td>\n",
       "      <td>-0.256660</td>\n",
       "      <td>0.559800</td>\n",
       "      <td>0.520810</td>\n",
       "      <td>-0.381071</td>\n",
       "      <td>-0.506321</td>\n",
       "      <td>-0.038203</td>\n",
       "    </tr>\n",
       "    <tr>\n",
       "      <th>4</th>\n",
       "      <td>0</td>\n",
       "      <td>-0.212018</td>\n",
       "      <td>0.003571</td>\n",
       "      <td>-0.026051</td>\n",
       "      <td>-0.032036</td>\n",
       "      <td>-0.683312</td>\n",
       "      <td>-0.024696</td>\n",
       "      <td>0.778626</td>\n",
       "      <td>0.821851</td>\n",
       "      <td>0.083669</td>\n",
       "      <td>...</td>\n",
       "      <td>-0.057536</td>\n",
       "      <td>0.141625</td>\n",
       "      <td>-0.370610</td>\n",
       "      <td>-0.451844</td>\n",
       "      <td>0.315462</td>\n",
       "      <td>0.651035</td>\n",
       "      <td>-0.119629</td>\n",
       "      <td>-0.642190</td>\n",
       "      <td>-0.087899</td>\n",
       "      <td>0.252129</td>\n",
       "    </tr>\n",
       "  </tbody>\n",
       "</table>\n",
       "<p>5 rows × 1175 columns</p>\n",
       "</div>"
      ],
      "text/plain": [
       "   0         1         2         3         4         5         6         7     \\\n",
       "0     0 -0.214777 -0.074414  0.079668 -0.041953 -0.715294  0.043155  0.754480   \n",
       "1     0 -0.253997  0.000337  0.060563 -0.101104 -0.701834  0.070198  0.748214   \n",
       "2     0 -0.212620 -0.136841  0.113312  0.014819 -0.714882 -0.012742  0.720049   \n",
       "3     0 -0.156624 -0.255746  0.086175  0.086967 -0.657194  0.011942  0.792931   \n",
       "4     0 -0.212018  0.003571 -0.026051 -0.032036 -0.683312 -0.024696  0.778626   \n",
       "\n",
       "       8         9     ...      1165      1166      1167      1168      1169  \\\n",
       "0  0.628223 -0.074455  ...  0.088765  0.285463 -0.060605 -0.542769 -0.006594   \n",
       "1  0.656058  0.016878  ...  0.182359 -0.046342 -0.233167 -0.234710  0.183400   \n",
       "2  0.666651 -0.012994  ...  0.020312  0.042942 -0.171825 -0.373853 -0.104966   \n",
       "3  0.718432 -0.084970  ... -0.142067  0.143729 -0.000996 -0.482060 -0.256660   \n",
       "4  0.821851  0.083669  ... -0.057536  0.141625 -0.370610 -0.451844  0.315462   \n",
       "\n",
       "       1170      1171      1172      1173      1174  \n",
       "0  0.665262 -0.015711 -0.667007 -0.013797  0.368727  \n",
       "1  0.591095 -0.059619 -0.819383 -0.283455  0.414261  \n",
       "2  0.448661  0.347881 -0.296482 -0.369788 -0.097517  \n",
       "3  0.559800  0.520810 -0.381071 -0.506321 -0.038203  \n",
       "4  0.651035 -0.119629 -0.642190 -0.087899  0.252129  \n",
       "\n",
       "[5 rows x 1175 columns]"
      ]
     },
     "execution_count": 2,
     "metadata": {},
     "output_type": "execute_result"
    }
   ],
   "source": [
    "df = pd.read_csv(\"../input/product-position/upper.csv\", header=None)\n",
    "df.head()"
   ]
  },
  {
   "cell_type": "code",
   "execution_count": 3,
   "id": "45c4fac8",
   "metadata": {
    "execution": {
     "iopub.execute_input": "2022-02-14T08:04:57.682076Z",
     "iopub.status.busy": "2022-02-14T08:04:57.681400Z",
     "iopub.status.idle": "2022-02-14T08:04:57.683962Z",
     "shell.execute_reply": "2022-02-14T08:04:57.684398Z",
     "shell.execute_reply.started": "2022-02-14T07:58:50.740851Z"
    },
    "papermill": {
     "duration": 0.029447,
     "end_time": "2022-02-14T08:04:57.684551",
     "exception": false,
     "start_time": "2022-02-14T08:04:57.655104",
     "status": "completed"
    },
    "tags": []
   },
   "outputs": [
    {
     "data": {
      "text/plain": [
       "(2136, 1175)"
      ]
     },
     "execution_count": 3,
     "metadata": {},
     "output_type": "execute_result"
    }
   ],
   "source": [
    "df.shape"
   ]
  },
  {
   "cell_type": "code",
   "execution_count": 4,
   "id": "717ed8d3",
   "metadata": {
    "execution": {
     "iopub.execute_input": "2022-02-14T08:04:57.735291Z",
     "iopub.status.busy": "2022-02-14T08:04:57.734516Z",
     "iopub.status.idle": "2022-02-14T08:04:57.737722Z",
     "shell.execute_reply": "2022-02-14T08:04:57.738132Z",
     "shell.execute_reply.started": "2022-02-14T07:58:50.752437Z"
    },
    "papermill": {
     "duration": 0.033035,
     "end_time": "2022-02-14T08:04:57.738251",
     "exception": false,
     "start_time": "2022-02-14T08:04:57.705216",
     "status": "completed"
    },
    "tags": []
   },
   "outputs": [
    {
     "data": {
      "text/plain": [
       "0\n",
       "0     343\n",
       "1      87\n",
       "2      29\n",
       "3      13\n",
       "4      52\n",
       "5     105\n",
       "6       2\n",
       "7       2\n",
       "8     741\n",
       "9     433\n",
       "10     91\n",
       "11     62\n",
       "12    163\n",
       "13      4\n",
       "14      9\n",
       "Name: 0, dtype: int64"
      ]
     },
     "execution_count": 4,
     "metadata": {},
     "output_type": "execute_result"
    }
   ],
   "source": [
    "df.groupby(0)[0].count()"
   ]
  },
  {
   "cell_type": "code",
   "execution_count": 5,
   "id": "d246f93e",
   "metadata": {
    "execution": {
     "iopub.execute_input": "2022-02-14T08:04:57.786031Z",
     "iopub.status.busy": "2022-02-14T08:04:57.785106Z",
     "iopub.status.idle": "2022-02-14T08:04:57.797651Z",
     "shell.execute_reply": "2022-02-14T08:04:57.798122Z",
     "shell.execute_reply.started": "2022-02-14T07:58:50.768771Z"
    },
    "papermill": {
     "duration": 0.039345,
     "end_time": "2022-02-14T08:04:57.798292",
     "exception": false,
     "start_time": "2022-02-14T08:04:57.758947",
     "status": "completed"
    },
    "tags": []
   },
   "outputs": [
    {
     "data": {
      "text/plain": [
       "(1517, 1175)"
      ]
     },
     "execution_count": 5,
     "metadata": {},
     "output_type": "execute_result"
    }
   ],
   "source": [
    "df_sel = df[(df[0]==0) | (df[0]==8) | (df[0]==9)]\n",
    "df_sel.shape"
   ]
  },
  {
   "cell_type": "code",
   "execution_count": 6,
   "id": "eea67ff3",
   "metadata": {
    "execution": {
     "iopub.execute_input": "2022-02-14T08:04:57.845262Z",
     "iopub.status.busy": "2022-02-14T08:04:57.844408Z",
     "iopub.status.idle": "2022-02-14T08:04:57.852956Z",
     "shell.execute_reply": "2022-02-14T08:04:57.852551Z",
     "shell.execute_reply.started": "2022-02-14T07:58:50.789814Z"
    },
    "papermill": {
     "duration": 0.033475,
     "end_time": "2022-02-14T08:04:57.853067",
     "exception": false,
     "start_time": "2022-02-14T08:04:57.819592",
     "status": "completed"
    },
    "tags": []
   },
   "outputs": [],
   "source": [
    "Xo = df_sel.drop([0],axis=1).values\n",
    "yo = df_sel[0].values"
   ]
  },
  {
   "cell_type": "code",
   "execution_count": 7,
   "id": "8e384e6b",
   "metadata": {
    "execution": {
     "iopub.execute_input": "2022-02-14T08:04:57.902718Z",
     "iopub.status.busy": "2022-02-14T08:04:57.901968Z",
     "iopub.status.idle": "2022-02-14T08:04:57.904880Z",
     "shell.execute_reply": "2022-02-14T08:04:57.905265Z",
     "shell.execute_reply.started": "2022-02-14T07:58:50.807024Z"
    },
    "papermill": {
     "duration": 0.029092,
     "end_time": "2022-02-14T08:04:57.905391",
     "exception": false,
     "start_time": "2022-02-14T08:04:57.876299",
     "status": "completed"
    },
    "tags": []
   },
   "outputs": [
    {
     "data": {
      "text/plain": [
       "(1517, 1174)"
      ]
     },
     "execution_count": 7,
     "metadata": {},
     "output_type": "execute_result"
    }
   ],
   "source": [
    "Xo.shape"
   ]
  },
  {
   "cell_type": "code",
   "execution_count": 8,
   "id": "8b963455",
   "metadata": {
    "execution": {
     "iopub.execute_input": "2022-02-14T08:04:57.954687Z",
     "iopub.status.busy": "2022-02-14T08:04:57.953575Z",
     "iopub.status.idle": "2022-02-14T08:04:57.956823Z",
     "shell.execute_reply": "2022-02-14T08:04:57.957215Z",
     "shell.execute_reply.started": "2022-02-14T07:58:50.815995Z"
    },
    "papermill": {
     "duration": 0.029798,
     "end_time": "2022-02-14T08:04:57.957331",
     "exception": false,
     "start_time": "2022-02-14T08:04:57.927533",
     "status": "completed"
    },
    "tags": []
   },
   "outputs": [
    {
     "data": {
      "text/plain": [
       "(1517,)"
      ]
     },
     "execution_count": 8,
     "metadata": {},
     "output_type": "execute_result"
    }
   ],
   "source": [
    "yo.shape"
   ]
  },
  {
   "cell_type": "code",
   "execution_count": 9,
   "id": "5bb8da1d",
   "metadata": {
    "execution": {
     "iopub.execute_input": "2022-02-14T08:04:58.005085Z",
     "iopub.status.busy": "2022-02-14T08:04:58.004278Z",
     "iopub.status.idle": "2022-02-14T08:04:58.008785Z",
     "shell.execute_reply": "2022-02-14T08:04:58.008323Z",
     "shell.execute_reply.started": "2022-02-14T07:58:50.828945Z"
    },
    "papermill": {
     "duration": 0.029824,
     "end_time": "2022-02-14T08:04:58.008891",
     "exception": false,
     "start_time": "2022-02-14T08:04:57.979067",
     "status": "completed"
    },
    "tags": []
   },
   "outputs": [
    {
     "data": {
      "text/plain": [
       "array([0, 8, 9])"
      ]
     },
     "execution_count": 9,
     "metadata": {},
     "output_type": "execute_result"
    }
   ],
   "source": [
    "np.unique(yo)"
   ]
  },
  {
   "cell_type": "code",
   "execution_count": 10,
   "id": "dd5379d4",
   "metadata": {
    "execution": {
     "iopub.execute_input": "2022-02-14T08:04:58.061313Z",
     "iopub.status.busy": "2022-02-14T08:04:58.060712Z",
     "iopub.status.idle": "2022-02-14T08:04:58.063213Z",
     "shell.execute_reply": "2022-02-14T08:04:58.063624Z",
     "shell.execute_reply.started": "2022-02-14T07:58:50.843784Z"
    },
    "papermill": {
     "duration": 0.031067,
     "end_time": "2022-02-14T08:04:58.063743",
     "exception": false,
     "start_time": "2022-02-14T08:04:58.032676",
     "status": "completed"
    },
    "tags": []
   },
   "outputs": [
    {
     "data": {
      "text/plain": [
       "array([0, 1, 2])"
      ]
     },
     "execution_count": 10,
     "metadata": {},
     "output_type": "execute_result"
    }
   ],
   "source": [
    "yo[yo==8] = 1\n",
    "yo[yo==9] = 2\n",
    "np.unique(yo)"
   ]
  },
  {
   "cell_type": "code",
   "execution_count": 11,
   "id": "788aee97",
   "metadata": {
    "execution": {
     "iopub.execute_input": "2022-02-14T08:04:58.127782Z",
     "iopub.status.busy": "2022-02-14T08:04:58.127054Z",
     "iopub.status.idle": "2022-02-14T08:04:58.129855Z",
     "shell.execute_reply": "2022-02-14T08:04:58.130292Z",
     "shell.execute_reply.started": "2022-02-14T07:58:50.854972Z"
    },
    "papermill": {
     "duration": 0.04254,
     "end_time": "2022-02-14T08:04:58.130409",
     "exception": false,
     "start_time": "2022-02-14T08:04:58.087869",
     "status": "completed"
    },
    "tags": []
   },
   "outputs": [
    {
     "data": {
      "text/plain": [
       "[343, 741, 433]"
      ]
     },
     "execution_count": 11,
     "metadata": {},
     "output_type": "execute_result"
    }
   ],
   "source": [
    "[sum(yo == item) for item in np.unique(yo)]"
   ]
  },
  {
   "cell_type": "code",
   "execution_count": 12,
   "id": "4acbaffd",
   "metadata": {
    "execution": {
     "iopub.execute_input": "2022-02-14T08:04:58.180425Z",
     "iopub.status.busy": "2022-02-14T08:04:58.179897Z",
     "iopub.status.idle": "2022-02-14T08:04:59.421759Z",
     "shell.execute_reply": "2022-02-14T08:04:59.421203Z",
     "shell.execute_reply.started": "2022-02-14T07:58:50.884327Z"
    },
    "papermill": {
     "duration": 1.268625,
     "end_time": "2022-02-14T08:04:59.421898",
     "exception": false,
     "start_time": "2022-02-14T08:04:58.153273",
     "status": "completed"
    },
    "tags": []
   },
   "outputs": [],
   "source": [
    "from imblearn.under_sampling import RandomUnderSampler\n",
    "sm = RandomUnderSampler(random_state=1)\n",
    "X_res, y_res = sm.fit_resample(Xo,yo)"
   ]
  },
  {
   "cell_type": "code",
   "execution_count": 13,
   "id": "120703a1",
   "metadata": {
    "execution": {
     "iopub.execute_input": "2022-02-14T08:04:59.473330Z",
     "iopub.status.busy": "2022-02-14T08:04:59.472806Z",
     "iopub.status.idle": "2022-02-14T08:04:59.479350Z",
     "shell.execute_reply": "2022-02-14T08:04:59.479872Z",
     "shell.execute_reply.started": "2022-02-14T07:58:52.260524Z"
    },
    "papermill": {
     "duration": 0.035047,
     "end_time": "2022-02-14T08:04:59.480012",
     "exception": false,
     "start_time": "2022-02-14T08:04:59.444965",
     "status": "completed"
    },
    "tags": []
   },
   "outputs": [],
   "source": [
    "from sklearn.model_selection import train_test_split #มีข้อมูล 2 set\n",
    "X_train, X_test, y_train, y_test = train_test_split(X_res, y_res, test_size=0.2, random_state=1)"
   ]
  },
  {
   "cell_type": "code",
   "execution_count": 14,
   "id": "38ea5e36",
   "metadata": {
    "execution": {
     "iopub.execute_input": "2022-02-14T08:04:59.530049Z",
     "iopub.status.busy": "2022-02-14T08:04:59.529536Z",
     "iopub.status.idle": "2022-02-14T08:04:59.543130Z",
     "shell.execute_reply": "2022-02-14T08:04:59.543586Z",
     "shell.execute_reply.started": "2022-02-14T07:58:52.274272Z"
    },
    "papermill": {
     "duration": 0.040983,
     "end_time": "2022-02-14T08:04:59.543733",
     "exception": false,
     "start_time": "2022-02-14T08:04:59.502750",
     "status": "completed"
    },
    "tags": []
   },
   "outputs": [],
   "source": [
    "from sklearn.preprocessing import MinMaxScaler\n",
    "scaler = MinMaxScaler(feature_range=(0, 1))\n",
    "scaler.fit(X_train)\n",
    "X_train_norm =  scaler.transform(X_train)\n",
    "X_test_norm = scaler.transform(X_test)"
   ]
  },
  {
   "cell_type": "code",
   "execution_count": 15,
   "id": "c4fbc6e5",
   "metadata": {
    "execution": {
     "iopub.execute_input": "2022-02-14T08:04:59.597518Z",
     "iopub.status.busy": "2022-02-14T08:04:59.596965Z",
     "iopub.status.idle": "2022-02-14T08:08:17.998442Z",
     "shell.execute_reply": "2022-02-14T08:08:17.996010Z",
     "shell.execute_reply.started": "2022-02-14T07:58:52.293736Z"
    },
    "papermill": {
     "duration": 198.430825,
     "end_time": "2022-02-14T08:08:17.998599",
     "exception": false,
     "start_time": "2022-02-14T08:04:59.567774",
     "status": "completed"
    },
    "tags": []
   },
   "outputs": [
    {
     "data": {
      "application/vnd.jupyter.widget-view+json": {
       "model_id": "328e33d019364072a8a6f667efb743ab",
       "version_major": 2,
       "version_minor": 0
      },
      "text/plain": [
       "  0%|          | 0/2 [00:00<?, ?it/s]"
      ]
     },
     "metadata": {},
     "output_type": "display_data"
    },
    {
     "name": "stdout",
     "output_type": "stream",
     "text": [
      "Training time: 198.32 s\n"
     ]
    }
   ],
   "source": [
    "import time\n",
    "import sys\n",
    "from time import sleep\n",
    "from tqdm.notebook import tqdm\n",
    "from sklearn.metrics import mean_squared_error,r2_score\n",
    "from sklearn.model_selection import GridSearchCV\n",
    "from sklearn.ensemble import ExtraTreesClassifier\n",
    "\n",
    "t0 = time.time()\n",
    "pr = {\n",
    "    'n_estimators' : [10,50,100,200,300],\n",
    "    'min_samples_leaf' : [1,2,4,8,16,32],\n",
    "}\n",
    "\n",
    "for i in tqdm(pr):\n",
    "    best_clf = GridSearchCV(ExtraTreesClassifier(random_state=0),pr,cv=10) \n",
    "    best_clf.fit(X_train_norm, y_train)\n",
    "print (\"Training time: \" + str(round(time.time()-t0,2)) + \" s\")"
   ]
  },
  {
   "cell_type": "code",
   "execution_count": 16,
   "id": "1609d7b0",
   "metadata": {
    "execution": {
     "iopub.execute_input": "2022-02-14T08:08:18.051615Z",
     "iopub.status.busy": "2022-02-14T08:08:18.050720Z",
     "iopub.status.idle": "2022-02-14T08:08:18.066878Z",
     "shell.execute_reply": "2022-02-14T08:08:18.066433Z",
     "shell.execute_reply.started": "2022-02-14T08:02:51.846306Z"
    },
    "papermill": {
     "duration": 0.044463,
     "end_time": "2022-02-14T08:08:18.066989",
     "exception": false,
     "start_time": "2022-02-14T08:08:18.022526",
     "status": "completed"
    },
    "tags": []
   },
   "outputs": [
    {
     "name": "stdout",
     "output_type": "stream",
     "text": [
      "Best score is 98.66147516896856\n",
      "Best param is {'min_samples_leaf': 1, 'n_estimators': 100}\n",
      "Test Training Acc. : 98.54368932038835\n"
     ]
    }
   ],
   "source": [
    "yp = best_clf.predict(X_test_norm)\n",
    "acc_test = sum(yp == y_test)/len(y_test)\n",
    "print(\"Best score is \" + str(best_clf.best_score_*100) +('\\n') +\"Best param is \" + str(best_clf.best_params_))\n",
    "print(\"Test Training Acc. : \" + str(acc_test*100))"
   ]
  },
  {
   "cell_type": "code",
   "execution_count": 17,
   "id": "f445cd4a",
   "metadata": {
    "execution": {
     "iopub.execute_input": "2022-02-14T08:08:18.118942Z",
     "iopub.status.busy": "2022-02-14T08:08:18.118329Z",
     "iopub.status.idle": "2022-02-14T08:08:18.402636Z",
     "shell.execute_reply": "2022-02-14T08:08:18.402180Z",
     "shell.execute_reply.started": "2022-02-14T08:02:51.884159Z"
    },
    "papermill": {
     "duration": 0.312074,
     "end_time": "2022-02-14T08:08:18.402761",
     "exception": false,
     "start_time": "2022-02-14T08:08:18.090687",
     "status": "completed"
    },
    "tags": []
   },
   "outputs": [
    {
     "data": {
      "text/html": [
       "<div>\n",
       "<style scoped>\n",
       "    .dataframe tbody tr th:only-of-type {\n",
       "        vertical-align: middle;\n",
       "    }\n",
       "\n",
       "    .dataframe tbody tr th {\n",
       "        vertical-align: top;\n",
       "    }\n",
       "\n",
       "    .dataframe thead th {\n",
       "        text-align: right;\n",
       "    }\n",
       "</style>\n",
       "<table border=\"1\" class=\"dataframe\">\n",
       "  <thead>\n",
       "    <tr style=\"text-align: right;\">\n",
       "      <th></th>\n",
       "      <th>0</th>\n",
       "      <th>1</th>\n",
       "      <th>2</th>\n",
       "      <th>3</th>\n",
       "      <th>4</th>\n",
       "      <th>5</th>\n",
       "      <th>6</th>\n",
       "      <th>7</th>\n",
       "      <th>8</th>\n",
       "      <th>9</th>\n",
       "      <th>...</th>\n",
       "      <th>1165</th>\n",
       "      <th>1166</th>\n",
       "      <th>1167</th>\n",
       "      <th>1168</th>\n",
       "      <th>1169</th>\n",
       "      <th>1170</th>\n",
       "      <th>1171</th>\n",
       "      <th>1172</th>\n",
       "      <th>1173</th>\n",
       "      <th>1174</th>\n",
       "    </tr>\n",
       "  </thead>\n",
       "  <tbody>\n",
       "    <tr>\n",
       "      <th>0</th>\n",
       "      <td>0</td>\n",
       "      <td>-0.288798</td>\n",
       "      <td>0.123559</td>\n",
       "      <td>-0.145930</td>\n",
       "      <td>-0.215309</td>\n",
       "      <td>-0.185400</td>\n",
       "      <td>0.392191</td>\n",
       "      <td>0.387001</td>\n",
       "      <td>0.109418</td>\n",
       "      <td>-0.053896</td>\n",
       "      <td>...</td>\n",
       "      <td>-0.083072</td>\n",
       "      <td>-0.180611</td>\n",
       "      <td>-0.054263</td>\n",
       "      <td>-0.090253</td>\n",
       "      <td>-0.092374</td>\n",
       "      <td>0.204258</td>\n",
       "      <td>0.172720</td>\n",
       "      <td>-0.127758</td>\n",
       "      <td>-0.073426</td>\n",
       "      <td>-0.062349</td>\n",
       "    </tr>\n",
       "    <tr>\n",
       "      <th>1</th>\n",
       "      <td>0</td>\n",
       "      <td>-0.310982</td>\n",
       "      <td>0.278796</td>\n",
       "      <td>0.020278</td>\n",
       "      <td>-0.580068</td>\n",
       "      <td>-0.194813</td>\n",
       "      <td>0.513178</td>\n",
       "      <td>0.054633</td>\n",
       "      <td>-0.091677</td>\n",
       "      <td>0.446404</td>\n",
       "      <td>...</td>\n",
       "      <td>-0.249165</td>\n",
       "      <td>0.612952</td>\n",
       "      <td>0.460862</td>\n",
       "      <td>-0.594491</td>\n",
       "      <td>-0.101955</td>\n",
       "      <td>0.473182</td>\n",
       "      <td>-0.270727</td>\n",
       "      <td>-0.241867</td>\n",
       "      <td>0.267820</td>\n",
       "      <td>-0.319167</td>\n",
       "    </tr>\n",
       "    <tr>\n",
       "      <th>2</th>\n",
       "      <td>0</td>\n",
       "      <td>-0.232586</td>\n",
       "      <td>-0.001626</td>\n",
       "      <td>0.012946</td>\n",
       "      <td>-0.436545</td>\n",
       "      <td>-0.077329</td>\n",
       "      <td>0.669403</td>\n",
       "      <td>0.233532</td>\n",
       "      <td>-0.176750</td>\n",
       "      <td>0.085733</td>\n",
       "      <td>...</td>\n",
       "      <td>0.189612</td>\n",
       "      <td>0.061643</td>\n",
       "      <td>0.020043</td>\n",
       "      <td>0.020403</td>\n",
       "      <td>-0.160364</td>\n",
       "      <td>0.088831</td>\n",
       "      <td>0.255118</td>\n",
       "      <td>-0.239033</td>\n",
       "      <td>-0.312695</td>\n",
       "      <td>0.103348</td>\n",
       "    </tr>\n",
       "    <tr>\n",
       "      <th>3</th>\n",
       "      <td>0</td>\n",
       "      <td>-0.410512</td>\n",
       "      <td>0.074891</td>\n",
       "      <td>-0.350108</td>\n",
       "      <td>0.175275</td>\n",
       "      <td>0.275028</td>\n",
       "      <td>0.188904</td>\n",
       "      <td>0.001418</td>\n",
       "      <td>-0.026880</td>\n",
       "      <td>-0.095250</td>\n",
       "      <td>...</td>\n",
       "      <td>0.220428</td>\n",
       "      <td>0.527499</td>\n",
       "      <td>0.107231</td>\n",
       "      <td>-0.578609</td>\n",
       "      <td>-0.307208</td>\n",
       "      <td>0.289125</td>\n",
       "      <td>0.225836</td>\n",
       "      <td>-0.025417</td>\n",
       "      <td>-0.041300</td>\n",
       "      <td>-0.205327</td>\n",
       "    </tr>\n",
       "    <tr>\n",
       "      <th>4</th>\n",
       "      <td>0</td>\n",
       "      <td>-0.281948</td>\n",
       "      <td>0.228064</td>\n",
       "      <td>0.072771</td>\n",
       "      <td>-0.434250</td>\n",
       "      <td>-0.370780</td>\n",
       "      <td>0.324552</td>\n",
       "      <td>0.145079</td>\n",
       "      <td>0.034085</td>\n",
       "      <td>0.321535</td>\n",
       "      <td>...</td>\n",
       "      <td>-0.082343</td>\n",
       "      <td>0.070518</td>\n",
       "      <td>-0.496565</td>\n",
       "      <td>-0.673805</td>\n",
       "      <td>0.208622</td>\n",
       "      <td>0.616389</td>\n",
       "      <td>0.076365</td>\n",
       "      <td>-0.175746</td>\n",
       "      <td>-0.037616</td>\n",
       "      <td>-0.208103</td>\n",
       "    </tr>\n",
       "  </tbody>\n",
       "</table>\n",
       "<p>5 rows × 1175 columns</p>\n",
       "</div>"
      ],
      "text/plain": [
       "   0         1         2         3         4         5         6         7     \\\n",
       "0     0 -0.288798  0.123559 -0.145930 -0.215309 -0.185400  0.392191  0.387001   \n",
       "1     0 -0.310982  0.278796  0.020278 -0.580068 -0.194813  0.513178  0.054633   \n",
       "2     0 -0.232586 -0.001626  0.012946 -0.436545 -0.077329  0.669403  0.233532   \n",
       "3     0 -0.410512  0.074891 -0.350108  0.175275  0.275028  0.188904  0.001418   \n",
       "4     0 -0.281948  0.228064  0.072771 -0.434250 -0.370780  0.324552  0.145079   \n",
       "\n",
       "       8         9     ...      1165      1166      1167      1168      1169  \\\n",
       "0  0.109418 -0.053896  ... -0.083072 -0.180611 -0.054263 -0.090253 -0.092374   \n",
       "1 -0.091677  0.446404  ... -0.249165  0.612952  0.460862 -0.594491 -0.101955   \n",
       "2 -0.176750  0.085733  ...  0.189612  0.061643  0.020043  0.020403 -0.160364   \n",
       "3 -0.026880 -0.095250  ...  0.220428  0.527499  0.107231 -0.578609 -0.307208   \n",
       "4  0.034085  0.321535  ... -0.082343  0.070518 -0.496565 -0.673805  0.208622   \n",
       "\n",
       "       1170      1171      1172      1173      1174  \n",
       "0  0.204258  0.172720 -0.127758 -0.073426 -0.062349  \n",
       "1  0.473182 -0.270727 -0.241867  0.267820 -0.319167  \n",
       "2  0.088831  0.255118 -0.239033 -0.312695  0.103348  \n",
       "3  0.289125  0.225836 -0.025417 -0.041300 -0.205327  \n",
       "4  0.616389  0.076365 -0.175746 -0.037616 -0.208103  \n",
       "\n",
       "[5 rows x 1175 columns]"
      ]
     },
     "execution_count": 17,
     "metadata": {},
     "output_type": "execute_result"
    }
   ],
   "source": [
    "df = pd.read_csv(\"../input/product-position/upper_test.csv\", header=None)\n",
    "df.head()"
   ]
  },
  {
   "cell_type": "code",
   "execution_count": 18,
   "id": "c57eabe8",
   "metadata": {
    "execution": {
     "iopub.execute_input": "2022-02-14T08:08:18.462652Z",
     "iopub.status.busy": "2022-02-14T08:08:18.456019Z",
     "iopub.status.idle": "2022-02-14T08:08:18.465134Z",
     "shell.execute_reply": "2022-02-14T08:08:18.465550Z",
     "shell.execute_reply.started": "2022-02-14T08:02:52.268565Z"
    },
    "papermill": {
     "duration": 0.038272,
     "end_time": "2022-02-14T08:08:18.465681",
     "exception": false,
     "start_time": "2022-02-14T08:08:18.427409",
     "status": "completed"
    },
    "tags": []
   },
   "outputs": [
    {
     "data": {
      "text/plain": [
       "(634, 1175)"
      ]
     },
     "execution_count": 18,
     "metadata": {},
     "output_type": "execute_result"
    }
   ],
   "source": [
    "df_sel = df[(df[0]==0) | (df[0]==8) | (df[0]==9)]\n",
    "df_sel.shape"
   ]
  },
  {
   "cell_type": "code",
   "execution_count": 19,
   "id": "03d588bd",
   "metadata": {
    "execution": {
     "iopub.execute_input": "2022-02-14T08:08:18.519450Z",
     "iopub.status.busy": "2022-02-14T08:08:18.518429Z",
     "iopub.status.idle": "2022-02-14T08:08:18.525732Z",
     "shell.execute_reply": "2022-02-14T08:08:18.525289Z",
     "shell.execute_reply.started": "2022-02-14T08:02:52.285767Z"
    },
    "papermill": {
     "duration": 0.035805,
     "end_time": "2022-02-14T08:08:18.525843",
     "exception": false,
     "start_time": "2022-02-14T08:08:18.490038",
     "status": "completed"
    },
    "tags": []
   },
   "outputs": [],
   "source": [
    "Xb = df_sel.drop([0],axis=1).values\n",
    "yb = df_sel[0].values"
   ]
  },
  {
   "cell_type": "code",
   "execution_count": 20,
   "id": "78a6ba14",
   "metadata": {
    "execution": {
     "iopub.execute_input": "2022-02-14T08:08:18.581138Z",
     "iopub.status.busy": "2022-02-14T08:08:18.580624Z",
     "iopub.status.idle": "2022-02-14T08:08:18.585338Z",
     "shell.execute_reply": "2022-02-14T08:08:18.584926Z",
     "shell.execute_reply.started": "2022-02-14T08:02:52.302330Z"
    },
    "papermill": {
     "duration": 0.035013,
     "end_time": "2022-02-14T08:08:18.585438",
     "exception": false,
     "start_time": "2022-02-14T08:08:18.550425",
     "status": "completed"
    },
    "tags": []
   },
   "outputs": [
    {
     "data": {
      "text/plain": [
       "array([0, 1, 2])"
      ]
     },
     "execution_count": 20,
     "metadata": {},
     "output_type": "execute_result"
    }
   ],
   "source": [
    "yb[yb==8] = 1\n",
    "yb[yb==9] = 2\n",
    "np.unique(yb)"
   ]
  },
  {
   "cell_type": "code",
   "execution_count": 21,
   "id": "65d1db1a",
   "metadata": {
    "execution": {
     "iopub.execute_input": "2022-02-14T08:08:18.639815Z",
     "iopub.status.busy": "2022-02-14T08:08:18.638711Z",
     "iopub.status.idle": "2022-02-14T08:08:18.644996Z",
     "shell.execute_reply": "2022-02-14T08:08:18.644590Z",
     "shell.execute_reply.started": "2022-02-14T08:02:52.314624Z"
    },
    "papermill": {
     "duration": 0.03483,
     "end_time": "2022-02-14T08:08:18.645105",
     "exception": false,
     "start_time": "2022-02-14T08:08:18.610275",
     "status": "completed"
    },
    "tags": []
   },
   "outputs": [],
   "source": [
    "X_blind_norm = scaler.transform(Xb)"
   ]
  },
  {
   "cell_type": "code",
   "execution_count": 22,
   "id": "29624af5",
   "metadata": {
    "execution": {
     "iopub.execute_input": "2022-02-14T08:08:18.700348Z",
     "iopub.status.busy": "2022-02-14T08:08:18.699551Z",
     "iopub.status.idle": "2022-02-14T08:08:18.721830Z",
     "shell.execute_reply": "2022-02-14T08:08:18.721220Z",
     "shell.execute_reply.started": "2022-02-14T08:02:52.329667Z"
    },
    "papermill": {
     "duration": 0.051842,
     "end_time": "2022-02-14T08:08:18.721978",
     "exception": false,
     "start_time": "2022-02-14T08:08:18.670136",
     "status": "completed"
    },
    "tags": []
   },
   "outputs": [
    {
     "name": "stdout",
     "output_type": "stream",
     "text": [
      "Best score is 98.66147516896856\n",
      "Best param is {'min_samples_leaf': 1, 'n_estimators': 100}\n",
      "Test Training Acc. : 94.6372239747634\n"
     ]
    }
   ],
   "source": [
    "yp = best_clf.predict(X_blind_norm)\n",
    "acc_test = sum(yp == yb)/len(yb)\n",
    "print(\"Best score is \" + str(best_clf.best_score_*100))\n",
    "print(\"Best param is \" + str(best_clf.best_params_))\n",
    "print(\"Test Training Acc. : \" + str(acc_test*100))"
   ]
  }
 ],
 "metadata": {
  "kernelspec": {
   "display_name": "Python 3",
   "language": "python",
   "name": "python3"
  },
  "language_info": {
   "codemirror_mode": {
    "name": "ipython",
    "version": 3
   },
   "file_extension": ".py",
   "mimetype": "text/x-python",
   "name": "python",
   "nbconvert_exporter": "python",
   "pygments_lexer": "ipython3",
   "version": "3.7.12"
  },
  "papermill": {
   "default_parameters": {},
   "duration": 210.607382,
   "end_time": "2022-02-14T08:08:19.356621",
   "environment_variables": {},
   "exception": null,
   "input_path": "__notebook__.ipynb",
   "output_path": "__notebook__.ipynb",
   "parameters": {},
   "start_time": "2022-02-14T08:04:48.749239",
   "version": "2.3.3"
  },
  "widgets": {
   "application/vnd.jupyter.widget-state+json": {
    "state": {
     "09c03e59c0b145cdab21b80e2dae0c35": {
      "model_module": "@jupyter-widgets/base",
      "model_module_version": "1.2.0",
      "model_name": "LayoutModel",
      "state": {
       "_model_module": "@jupyter-widgets/base",
       "_model_module_version": "1.2.0",
       "_model_name": "LayoutModel",
       "_view_count": null,
       "_view_module": "@jupyter-widgets/base",
       "_view_module_version": "1.2.0",
       "_view_name": "LayoutView",
       "align_content": null,
       "align_items": null,
       "align_self": null,
       "border": null,
       "bottom": null,
       "display": null,
       "flex": null,
       "flex_flow": null,
       "grid_area": null,
       "grid_auto_columns": null,
       "grid_auto_flow": null,
       "grid_auto_rows": null,
       "grid_column": null,
       "grid_gap": null,
       "grid_row": null,
       "grid_template_areas": null,
       "grid_template_columns": null,
       "grid_template_rows": null,
       "height": null,
       "justify_content": null,
       "justify_items": null,
       "left": null,
       "margin": null,
       "max_height": null,
       "max_width": null,
       "min_height": null,
       "min_width": null,
       "object_fit": null,
       "object_position": null,
       "order": null,
       "overflow": null,
       "overflow_x": null,
       "overflow_y": null,
       "padding": null,
       "right": null,
       "top": null,
       "visibility": null,
       "width": null
      }
     },
     "0d2788230efa444395e0b6a060ce3eab": {
      "model_module": "@jupyter-widgets/base",
      "model_module_version": "1.2.0",
      "model_name": "LayoutModel",
      "state": {
       "_model_module": "@jupyter-widgets/base",
       "_model_module_version": "1.2.0",
       "_model_name": "LayoutModel",
       "_view_count": null,
       "_view_module": "@jupyter-widgets/base",
       "_view_module_version": "1.2.0",
       "_view_name": "LayoutView",
       "align_content": null,
       "align_items": null,
       "align_self": null,
       "border": null,
       "bottom": null,
       "display": null,
       "flex": null,
       "flex_flow": null,
       "grid_area": null,
       "grid_auto_columns": null,
       "grid_auto_flow": null,
       "grid_auto_rows": null,
       "grid_column": null,
       "grid_gap": null,
       "grid_row": null,
       "grid_template_areas": null,
       "grid_template_columns": null,
       "grid_template_rows": null,
       "height": null,
       "justify_content": null,
       "justify_items": null,
       "left": null,
       "margin": null,
       "max_height": null,
       "max_width": null,
       "min_height": null,
       "min_width": null,
       "object_fit": null,
       "object_position": null,
       "order": null,
       "overflow": null,
       "overflow_x": null,
       "overflow_y": null,
       "padding": null,
       "right": null,
       "top": null,
       "visibility": null,
       "width": null
      }
     },
     "1ed099b82a314228bf6ded03360457a9": {
      "model_module": "@jupyter-widgets/controls",
      "model_module_version": "1.5.0",
      "model_name": "ProgressStyleModel",
      "state": {
       "_model_module": "@jupyter-widgets/controls",
       "_model_module_version": "1.5.0",
       "_model_name": "ProgressStyleModel",
       "_view_count": null,
       "_view_module": "@jupyter-widgets/base",
       "_view_module_version": "1.2.0",
       "_view_name": "StyleView",
       "bar_color": null,
       "description_width": ""
      }
     },
     "328e33d019364072a8a6f667efb743ab": {
      "model_module": "@jupyter-widgets/controls",
      "model_module_version": "1.5.0",
      "model_name": "HBoxModel",
      "state": {
       "_dom_classes": [],
       "_model_module": "@jupyter-widgets/controls",
       "_model_module_version": "1.5.0",
       "_model_name": "HBoxModel",
       "_view_count": null,
       "_view_module": "@jupyter-widgets/controls",
       "_view_module_version": "1.5.0",
       "_view_name": "HBoxView",
       "box_style": "",
       "children": [
        "IPY_MODEL_8e273e3344694e32b255e4a91cdab3bc",
        "IPY_MODEL_c0f8f25993e845d4bb3a714336c59ba3",
        "IPY_MODEL_9964bcb8caee438983187846f3615726"
       ],
       "layout": "IPY_MODEL_0d2788230efa444395e0b6a060ce3eab"
      }
     },
     "5d18d56e327344148d342a5fd008f6c5": {
      "model_module": "@jupyter-widgets/controls",
      "model_module_version": "1.5.0",
      "model_name": "DescriptionStyleModel",
      "state": {
       "_model_module": "@jupyter-widgets/controls",
       "_model_module_version": "1.5.0",
       "_model_name": "DescriptionStyleModel",
       "_view_count": null,
       "_view_module": "@jupyter-widgets/base",
       "_view_module_version": "1.2.0",
       "_view_name": "StyleView",
       "description_width": ""
      }
     },
     "84a571c2c6a54204b7690f3f24996914": {
      "model_module": "@jupyter-widgets/controls",
      "model_module_version": "1.5.0",
      "model_name": "DescriptionStyleModel",
      "state": {
       "_model_module": "@jupyter-widgets/controls",
       "_model_module_version": "1.5.0",
       "_model_name": "DescriptionStyleModel",
       "_view_count": null,
       "_view_module": "@jupyter-widgets/base",
       "_view_module_version": "1.2.0",
       "_view_name": "StyleView",
       "description_width": ""
      }
     },
     "8e273e3344694e32b255e4a91cdab3bc": {
      "model_module": "@jupyter-widgets/controls",
      "model_module_version": "1.5.0",
      "model_name": "HTMLModel",
      "state": {
       "_dom_classes": [],
       "_model_module": "@jupyter-widgets/controls",
       "_model_module_version": "1.5.0",
       "_model_name": "HTMLModel",
       "_view_count": null,
       "_view_module": "@jupyter-widgets/controls",
       "_view_module_version": "1.5.0",
       "_view_name": "HTMLView",
       "description": "",
       "description_tooltip": null,
       "layout": "IPY_MODEL_09c03e59c0b145cdab21b80e2dae0c35",
       "placeholder": "​",
       "style": "IPY_MODEL_84a571c2c6a54204b7690f3f24996914",
       "value": "100%"
      }
     },
     "9964bcb8caee438983187846f3615726": {
      "model_module": "@jupyter-widgets/controls",
      "model_module_version": "1.5.0",
      "model_name": "HTMLModel",
      "state": {
       "_dom_classes": [],
       "_model_module": "@jupyter-widgets/controls",
       "_model_module_version": "1.5.0",
       "_model_name": "HTMLModel",
       "_view_count": null,
       "_view_module": "@jupyter-widgets/controls",
       "_view_module_version": "1.5.0",
       "_view_name": "HTMLView",
       "description": "",
       "description_tooltip": null,
       "layout": "IPY_MODEL_aa26ac18d11143f09d924e6f435fe9b5",
       "placeholder": "​",
       "style": "IPY_MODEL_5d18d56e327344148d342a5fd008f6c5",
       "value": " 2/2 [03:18&lt;00:00, 99.19s/it]"
      }
     },
     "aa26ac18d11143f09d924e6f435fe9b5": {
      "model_module": "@jupyter-widgets/base",
      "model_module_version": "1.2.0",
      "model_name": "LayoutModel",
      "state": {
       "_model_module": "@jupyter-widgets/base",
       "_model_module_version": "1.2.0",
       "_model_name": "LayoutModel",
       "_view_count": null,
       "_view_module": "@jupyter-widgets/base",
       "_view_module_version": "1.2.0",
       "_view_name": "LayoutView",
       "align_content": null,
       "align_items": null,
       "align_self": null,
       "border": null,
       "bottom": null,
       "display": null,
       "flex": null,
       "flex_flow": null,
       "grid_area": null,
       "grid_auto_columns": null,
       "grid_auto_flow": null,
       "grid_auto_rows": null,
       "grid_column": null,
       "grid_gap": null,
       "grid_row": null,
       "grid_template_areas": null,
       "grid_template_columns": null,
       "grid_template_rows": null,
       "height": null,
       "justify_content": null,
       "justify_items": null,
       "left": null,
       "margin": null,
       "max_height": null,
       "max_width": null,
       "min_height": null,
       "min_width": null,
       "object_fit": null,
       "object_position": null,
       "order": null,
       "overflow": null,
       "overflow_x": null,
       "overflow_y": null,
       "padding": null,
       "right": null,
       "top": null,
       "visibility": null,
       "width": null
      }
     },
     "c0f8f25993e845d4bb3a714336c59ba3": {
      "model_module": "@jupyter-widgets/controls",
      "model_module_version": "1.5.0",
      "model_name": "FloatProgressModel",
      "state": {
       "_dom_classes": [],
       "_model_module": "@jupyter-widgets/controls",
       "_model_module_version": "1.5.0",
       "_model_name": "FloatProgressModel",
       "_view_count": null,
       "_view_module": "@jupyter-widgets/controls",
       "_view_module_version": "1.5.0",
       "_view_name": "ProgressView",
       "bar_style": "success",
       "description": "",
       "description_tooltip": null,
       "layout": "IPY_MODEL_f5b4d999097f4792a26fa6df3f71e47a",
       "max": 2.0,
       "min": 0.0,
       "orientation": "horizontal",
       "style": "IPY_MODEL_1ed099b82a314228bf6ded03360457a9",
       "value": 2.0
      }
     },
     "f5b4d999097f4792a26fa6df3f71e47a": {
      "model_module": "@jupyter-widgets/base",
      "model_module_version": "1.2.0",
      "model_name": "LayoutModel",
      "state": {
       "_model_module": "@jupyter-widgets/base",
       "_model_module_version": "1.2.0",
       "_model_name": "LayoutModel",
       "_view_count": null,
       "_view_module": "@jupyter-widgets/base",
       "_view_module_version": "1.2.0",
       "_view_name": "LayoutView",
       "align_content": null,
       "align_items": null,
       "align_self": null,
       "border": null,
       "bottom": null,
       "display": null,
       "flex": null,
       "flex_flow": null,
       "grid_area": null,
       "grid_auto_columns": null,
       "grid_auto_flow": null,
       "grid_auto_rows": null,
       "grid_column": null,
       "grid_gap": null,
       "grid_row": null,
       "grid_template_areas": null,
       "grid_template_columns": null,
       "grid_template_rows": null,
       "height": null,
       "justify_content": null,
       "justify_items": null,
       "left": null,
       "margin": null,
       "max_height": null,
       "max_width": null,
       "min_height": null,
       "min_width": null,
       "object_fit": null,
       "object_position": null,
       "order": null,
       "overflow": null,
       "overflow_x": null,
       "overflow_y": null,
       "padding": null,
       "right": null,
       "top": null,
       "visibility": null,
       "width": null
      }
     }
    },
    "version_major": 2,
    "version_minor": 0
   }
  }
 },
 "nbformat": 4,
 "nbformat_minor": 5
}
